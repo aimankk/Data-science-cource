{
 "cells": [
  {
   "cell_type": "code",
   "execution_count": 16,
   "metadata": {},
   "outputs": [
    {
     "name": "stdout",
     "output_type": "stream",
     "text": [
      "Twinkle,twinkle,little star, \n",
      "\tHow are wonder what you are!\n",
      "\t\t  up above the world so high,\n",
      "\t\t  like a diamond in the sky.\n",
      "Twinkle twinkle,little star,\n",
      "\tHow I wonder what You are\n"
     ]
    }
   ],
   "source": [
    "# Q:1\n",
    "print(\"Twinkle,twinkle,little star, \\n\\tHow are wonder what you are!\\n\\t\\t  up above the world so high,\\n\\t\\t  like a diamond in the sky.\\nTwinkle twinkle,little star,\\n\\tHow I wonder what You are\")"
   ]
  },
  {
   "cell_type": "code",
   "execution_count": 1,
   "metadata": {},
   "outputs": [
    {
     "name": "stdout",
     "output_type": "stream",
     "text": [
      "3.8.3\n"
     ]
    }
   ],
   "source": [
    "# Q2\n",
    "import platform\n",
    "\n",
    "print(platform.python_version())"
   ]
  },
  {
   "cell_type": "code",
   "execution_count": 11,
   "metadata": {},
   "outputs": [
    {
     "name": "stdout",
     "output_type": "stream",
     "text": [
      "Today's date,time: 2022-01-01 21:37:02.480352\n"
     ]
    }
   ],
   "source": [
    "# Q3\n",
    "from datetime import datetime\n",
    "\n",
    "today= datetime.today()\n",
    "\n",
    "\n",
    "print(\"Today's date,time:\",today)\n"
   ]
  },
  {
   "cell_type": "code",
   "execution_count": 15,
   "metadata": {},
   "outputs": [
    {
     "name": "stdout",
     "output_type": "stream",
     "text": [
      "Input the radius of the circle : 2\n",
      "The area of the circle with radius  2.0 12.566370614359172\n"
     ]
    }
   ],
   "source": [
    "# Q4\n",
    "from math import pi\n",
    "r = float(input (\"Input the radius of the circle : \"))\n",
    "print (\"The area of the circle with radius \", str(r) ,str(pi * r**2))"
   ]
  },
  {
   "cell_type": "code",
   "execution_count": 25,
   "metadata": {},
   "outputs": [
    {
     "name": "stdout",
     "output_type": "stream",
     "text": [
      "nahK namiA\n"
     ]
    }
   ],
   "source": [
    "# Q5\n",
    "name = (\"Aiman Khan\")\n",
    "print(name[::-1])"
   ]
  },
  {
   "cell_type": "code",
   "execution_count": 26,
   "metadata": {},
   "outputs": [
    {
     "name": "stdout",
     "output_type": "stream",
     "text": [
      "enter a value:4\n",
      "enter a value:6\n",
      "10\n"
     ]
    }
   ],
   "source": [
    "# Q6\n",
    "\n",
    "a = int(input(\"enter a value:\"))\n",
    "b = int(input(\"enter a value:\"))\n",
    "c = a+b\n",
    "\n",
    "print(c)"
   ]
  },
  {
   "cell_type": "code",
   "execution_count": null,
   "metadata": {},
   "outputs": [],
   "source": []
  }
 ],
 "metadata": {
  "kernelspec": {
   "display_name": "Python 3",
   "language": "python",
   "name": "python3"
  },
  "language_info": {
   "codemirror_mode": {
    "name": "ipython",
    "version": 3
   },
   "file_extension": ".py",
   "mimetype": "text/x-python",
   "name": "python",
   "nbconvert_exporter": "python",
   "pygments_lexer": "ipython3",
   "version": "3.8.3"
  }
 },
 "nbformat": 4,
 "nbformat_minor": 4
}
